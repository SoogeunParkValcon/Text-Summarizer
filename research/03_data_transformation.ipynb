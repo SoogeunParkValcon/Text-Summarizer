{
 "cells": [
  {
   "cell_type": "code",
   "execution_count": 2,
   "metadata": {},
   "outputs": [],
   "source": [
    "import os"
   ]
  },
  {
   "cell_type": "code",
   "execution_count": 3,
   "metadata": {},
   "outputs": [
    {
     "data": {
      "text/plain": [
       "'/Users/soogeunpark/Documents/text_summarizer_cicd/Text-Summarizer/research'"
      ]
     },
     "execution_count": 3,
     "metadata": {},
     "output_type": "execute_result"
    }
   ],
   "source": [
    "%pwd"
   ]
  },
  {
   "cell_type": "code",
   "execution_count": 4,
   "metadata": {},
   "outputs": [],
   "source": [
    "os.chdir(\"../\")"
   ]
  },
  {
   "cell_type": "markdown",
   "metadata": {},
   "source": [
    "First, I modify and update the ```config.yaml```"
   ]
  },
  {
   "cell_type": "markdown",
   "metadata": {},
   "source": [
    "Then, I set up the entity:"
   ]
  },
  {
   "cell_type": "code",
   "execution_count": 5,
   "metadata": {},
   "outputs": [],
   "source": [
    "from dataclasses import dataclass\n",
    "from pathlib import Path\n",
    "\n",
    "@dataclass(frozen = True)\n",
    "class DataTransformationConfig:\n",
    "    \"\"\"\n",
    "    Providing the format of the data transformation config\n",
    "    \"\"\"\n",
    "    root_dir: Path\n",
    "    data_path: Path\n",
    "    result_file_name: str\n",
    "    tokenizer_name: Path\n",
    "# tokenizer is also a path.. interesting"
   ]
  },
  {
   "cell_type": "markdown",
   "metadata": {},
   "source": [
    "Now the ```config/configuration.py```"
   ]
  },
  {
   "cell_type": "code",
   "execution_count": 6,
   "metadata": {},
   "outputs": [],
   "source": [
    "from TextSummarizer.constants import *\n",
    "from TextSummarizer.utils.common import read_yaml, create_directories\n",
    "\n",
    "class ConfigurationManager:\n",
    "    def __init__(\n",
    "        self,\n",
    "        config_filepath = CONFIG_FILE_PATH,\n",
    "        params_filepath = PARAMS_FILE_PATH\n",
    "    ):\n",
    "        \"\"\"\n",
    "        This class is used to manage the configuration of the project\n",
    "        \"\"\"\n",
    "\n",
    "        self.config = read_yaml(config_filepath)\n",
    "        self.params = read_yaml(params_filepath)\n",
    "\n",
    "        create_directories([self.config.artifacts_roots]) \n",
    "        # this refers to the artifacts_roots in the config.yaml\n",
    "        # this creates the 'artifacts' directory\n",
    "        # because self.config does the \"read_yaml\" function which uses ConfigBox, the artifacts_roots can be just accessed by using the dot notation\n",
    "\n",
    "    def data_transformation_config(self) -> DataTransformationConfig:\n",
    "        \"\"\"\n",
    "        This function returns the data transformation config\n",
    "        \"\"\"\n",
    "        \n",
    "        config = self.config.data_transformation\n",
    "        \n",
    "        create_directories([config.root_dir])\n",
    "        \n",
    "        data_transformation_config = DataTransformationConfig(\n",
    "            root_dir = config.root_dir,\n",
    "            data_path = config.data_path,\n",
    "            result_file_name = config.result_file_name,\n",
    "            tokenizer_name = config.tokenizer_name\n",
    "        )\n",
    "    \n",
    "        return data_transformation_config\n",
    " \n"
   ]
  },
  {
   "cell_type": "code",
   "execution_count": 7,
   "metadata": {},
   "outputs": [],
   "source": [
    "import os\n",
    "from TextSummarizer.logging import logger\n",
    "from transformers import AutoTokenizer\n",
    "from transformers import BertTokenizerFast, EncoderDecoderModel\n",
    "from datasets import load_dataset, load_from_disk"
   ]
  },
  {
   "cell_type": "markdown",
   "metadata": {},
   "source": [
    "Now the components:"
   ]
  },
  {
   "cell_type": "code",
   "execution_count": 8,
   "metadata": {},
   "outputs": [],
   "source": [
    "\n",
    "\n",
    "class DataTransformation:\n",
    "    def __init__(self, config: DataTransformationConfig):\n",
    "        \"\"\"\n",
    "        This class is used to execute data validation\n",
    "        \"\"\"\n",
    "        self.config = config\n",
    "        \n",
    "        # also I initialize the tokenizer - adopted from the information given in the config.yaml\n",
    "        self.tokenizer = BertTokenizerFast.from_pretrained(self.config.tokenizer_name)\n",
    "        \n",
    "        logger.info(f\"Tokenizer initalized: {self.config.tokenizer_name}.\")\n",
    "    \n",
    "    # now I need the function that convert data ('examples') into features ('tokens')\n",
    "    def convert_examples_to_features(self, example_batch):\n",
    "        input_encodings = self.tokenizer(example_batch['dialogue'], \n",
    "                                         max_length = 1024,\n",
    "                                         truncation = True)\n",
    "        \n",
    "        with self.tokenizer.as_target_tokenizer():\n",
    "            target_encodings = self.tokenizer(example_batch['summary'],\n",
    "                                              max_length = 128,\n",
    "                                              truncation = True)\n",
    "            \n",
    "        return{\n",
    "            'input_ids': input_encodings['input_ids'],\n",
    "            'attention_mask': input_encodings['attention_mask'],\n",
    "            'labels': target_encodings['input_ids']\n",
    "        }\n",
    "    \n",
    "    # this method then executes the data transformation\n",
    "    def convert(self):\n",
    "        dataset_samsum = load_from_disk(self.config.data_path)\n",
    "        logger.info(f\"Dataset loaded from {self.config.data_path}\")\n",
    "        \n",
    "        dataset_samsum_pt = dataset_samsum.map(self.convert_examples_to_features, batched = True)\n",
    "        # batched processing instead of individual observation unit processing, to allow more efficient processing\n",
    "        \n",
    "        logger.info(f\"Dataset converted to features success\")\n",
    "        \n",
    "        dataset_samsum_pt.save_to_disk(os.path.join(self.config.root_dir, self.config.result_file_name))\n",
    "        \n",
    "        logger.info(f\"Dataset saved at {os.path.join(self.config.root_dir, self.config.result_file_name)}\")"
   ]
  },
  {
   "cell_type": "markdown",
   "metadata": {},
   "source": [
    "Now working on the pipeline:"
   ]
  },
  {
   "cell_type": "code",
   "execution_count": 9,
   "metadata": {},
   "outputs": [
    {
     "name": "stdout",
     "output_type": "stream",
     "text": [
      "[2024-01-03 15:27:14,952: INFO: common: yaml file: config/config.yaml loaded successfully]\n",
      "[2024-01-03 15:27:14,954: INFO: common: yaml file: params.yaml loaded successfully]\n",
      "[2024-01-03 15:27:14,954: INFO: common: created directory at: artifacts]\n",
      "[2024-01-03 15:27:14,955: INFO: common: created directory at: artifacts/data_transformation]\n",
      "[2024-01-03 15:27:15,506: INFO: 3822845383: Tokenizer initalized: mrm8488/bert-small2bert-small-finetuned-cnn_daily_mail-summarization.]\n",
      "[2024-01-03 15:27:15,514: INFO: 3822845383: Dataset loaded from artifacts/data_ingestion/samsum_dataset]\n"
     ]
    },
    {
     "name": "stderr",
     "output_type": "stream",
     "text": [
      "Map:   0%|          | 0/14732 [00:00<?, ? examples/s]/Users/soogeunpark/Documents/text_summarizer_cicd/textsummarizer-venv/lib/python3.11/site-packages/transformers/tokenization_utils_base.py:3860: UserWarning: `as_target_tokenizer` is deprecated and will be removed in v5 of Transformers. You can tokenize your labels by using the argument `text_target` of the regular `__call__` method (either in the same call as your input texts if you use the same keyword arguments, or in a separate call.\n",
      "  warnings.warn(\n",
      "Map: 100%|██████████| 14732/14732 [00:01<00:00, 14657.20 examples/s]\n",
      "Map: 100%|██████████| 819/819 [00:00<00:00, 14560.47 examples/s]\n",
      "Map: 100%|██████████| 818/818 [00:00<00:00, 8373.15 examples/s]"
     ]
    },
    {
     "name": "stdout",
     "output_type": "stream",
     "text": [
      "[2024-01-03 15:27:16,704: INFO: 3822845383: Dataset converted to features success]\n"
     ]
    },
    {
     "name": "stderr",
     "output_type": "stream",
     "text": [
      "\n",
      "Saving the dataset (1/1 shards): 100%|██████████| 14732/14732 [00:00<00:00, 300929.65 examples/s]\n",
      "Saving the dataset (1/1 shards): 100%|██████████| 819/819 [00:00<00:00, 237233.08 examples/s]\n",
      "Saving the dataset (1/1 shards): 100%|██████████| 818/818 [00:00<00:00, 199368.97 examples/s]"
     ]
    },
    {
     "name": "stdout",
     "output_type": "stream",
     "text": [
      "[2024-01-03 15:27:16,766: INFO: 3822845383: Dataset saved at artifacts/data_transformation/samsumdata_transformed]\n"
     ]
    },
    {
     "name": "stderr",
     "output_type": "stream",
     "text": [
      "\n"
     ]
    }
   ],
   "source": [
    "try:\n",
    "    config = ConfigurationManager()\n",
    "    \n",
    "    data_transformation_config = config.data_transformation_config()\n",
    "\n",
    "    data_transformation = DataTransformation(config = data_transformation_config)\n",
    "    # this takes the data_transformation_config, and uses it to create the DataTransformation class\n",
    "\n",
    "    # now we use the method defined in the data_transformation class\n",
    "    \n",
    "    data_transformation.convert()\n",
    "    \n",
    "except Exception as e:\n",
    "    logger.error(e)\n",
    "    raise e\n"
   ]
  },
  {
   "cell_type": "markdown",
   "metadata": {},
   "source": [
    "Now let's convert into modular coding.."
   ]
  },
  {
   "cell_type": "markdown",
   "metadata": {},
   "source": []
  }
 ],
 "metadata": {
  "kernelspec": {
   "display_name": "textsummarizer-venv",
   "language": "python",
   "name": "python3"
  },
  "language_info": {
   "codemirror_mode": {
    "name": "ipython",
    "version": 3
   },
   "file_extension": ".py",
   "mimetype": "text/x-python",
   "name": "python",
   "nbconvert_exporter": "python",
   "pygments_lexer": "ipython3",
   "version": "3.11.7"
  }
 },
 "nbformat": 4,
 "nbformat_minor": 2
}
