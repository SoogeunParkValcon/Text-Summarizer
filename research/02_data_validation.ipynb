{
 "cells": [
  {
   "cell_type": "markdown",
   "metadata": {},
   "source": [
    "# Notebook experimentation for data validation"
   ]
  },
  {
   "cell_type": "markdown",
   "metadata": {},
   "source": [
    "Data validation is to check whether the ingested data is valid."
   ]
  },
  {
   "cell_type": "code",
   "execution_count": 1,
   "metadata": {},
   "outputs": [],
   "source": [
    "import os"
   ]
  },
  {
   "cell_type": "code",
   "execution_count": 2,
   "metadata": {},
   "outputs": [
    {
     "data": {
      "text/plain": [
       "'/Users/soogeunpark/Documents/text_summarizer_cicd/Text-Summarizer/research'"
      ]
     },
     "execution_count": 2,
     "metadata": {},
     "output_type": "execute_result"
    }
   ],
   "source": [
    "%pwd"
   ]
  },
  {
   "cell_type": "code",
   "execution_count": 3,
   "metadata": {},
   "outputs": [],
   "source": [
    "os.chdir(\"../\")"
   ]
  },
  {
   "cell_type": "code",
   "execution_count": 4,
   "metadata": {},
   "outputs": [
    {
     "data": {
      "text/plain": [
       "'/Users/soogeunpark/Documents/text_summarizer_cicd/Text-Summarizer'"
      ]
     },
     "execution_count": 4,
     "metadata": {},
     "output_type": "execute_result"
    }
   ],
   "source": [
    "os.getcwd()"
   ]
  },
  {
   "cell_type": "markdown",
   "metadata": {},
   "source": [
    "I first update the ```config.yaml```"
   ]
  },
  {
   "cell_type": "markdown",
   "metadata": {},
   "source": [
    "Now I work on the ```config\\\\configuration.py```"
   ]
  },
  {
   "cell_type": "code",
   "execution_count": 5,
   "metadata": {},
   "outputs": [],
   "source": [
    "from TextSummarizer.constants import *\n",
    "# the asterisk imports everything in the directory\n",
    "\n",
    "# I'm importing the file paths given in the constants file"
   ]
  },
  {
   "cell_type": "code",
   "execution_count": 14,
   "metadata": {},
   "outputs": [],
   "source": [
    "from TextSummarizer.utils.common import read_yaml, create_directories"
   ]
  },
  {
   "cell_type": "code",
   "execution_count": 8,
   "metadata": {},
   "outputs": [],
   "source": [
    "\n",
    "class ConfigurationManager:\n",
    "    def __init__(\n",
    "        self,\n",
    "        config_filepath = CONFIG_FILE_PATH,\n",
    "        params_filepath = PARAMS_FILE_PATH\n",
    "    ):\n",
    "        \"\"\"\n",
    "        This class is used to manage the configuration of the project\n",
    "        \"\"\"\n",
    "\n",
    "        self.config = read_yaml(config_filepath)\n",
    "        self.params = read_yaml(params_filepath)\n",
    "\n",
    "        create_directories([self.config.artifacts_roots]) \n",
    "        # this refers to the artifacts_roots in the config.yaml\n",
    "        # this creates the 'artifacts' directory\n",
    "        # because self.config does the \"read_yaml\" function which uses ConfigBox, the artifacts_roots can be just accessed by using the dot notation\n",
    "\n",
    "    def data_validation_config(self) -> DataValidationConfig:\n",
    "        \"\"\"\n",
    "        This function returns the data validation config\n",
    "        \"\"\"\n",
    "        config = self.config.data_validation\n",
    "        # this refers to the data_validation in the config.yaml which is loaded above\n",
    "\n",
    "        create_directories([config.root_dir])\n",
    "        # this creates the directory under artifacts called 'data_validation'\n",
    "        \n",
    "        data_validation_config = DataValidationConfig(\n",
    "            root_dir = config.root_dir,\n",
    "            STATUS_FILE = config.STATUS_FILE,\n",
    "            ALL_REQUIRED_FILES = config.ALL_REQUIRED_FILES\n",
    "        )\n",
    "        \n",
    "        return data_validation_config\n"
   ]
  },
  {
   "cell_type": "markdown",
   "metadata": {},
   "source": [
    "Define the entity: entity is the format that is used for providing the information for the configuration for data validation"
   ]
  },
  {
   "cell_type": "code",
   "execution_count": 7,
   "metadata": {},
   "outputs": [],
   "source": [
    "from dataclasses import dataclass\n",
    "from pathlib import Path\n",
    "\n",
    "@dataclass(frozen = True)\n",
    "class DataValidationConfig:\n",
    "    root_dir: Path\n",
    "    STATUS_FILE: str\n",
    "    ALL_REQUIRED_FILES: list\n",
    "\n"
   ]
  },
  {
   "cell_type": "markdown",
   "metadata": {},
   "source": [
    "Now working on the components:"
   ]
  },
  {
   "cell_type": "code",
   "execution_count": 10,
   "metadata": {},
   "outputs": [],
   "source": [
    "import os\n",
    "from TextSummarizer.logging import logger"
   ]
  },
  {
   "cell_type": "code",
   "execution_count": 19,
   "metadata": {},
   "outputs": [],
   "source": [
    "class DataValidation:\n",
    "    def __init__(self, config: DataValidationConfig):\n",
    "        \"\"\"\n",
    "        This class is used to execute data validation\n",
    "        \"\"\"\n",
    "        self.config = config\n",
    "\n",
    "    # method that downloads the data from the url\n",
    "    def validate_all_files_exist(self) -> bool:\n",
    "\n",
    "        try: \n",
    "            all_files = os.listdir(os.path.join(\"artifacts\", \"data_ingestion\", \"samsum_dataset\"))\n",
    "            # this provides all of the files in the artifacts/data_ingestion/samsum_dataset,\n",
    "            # in a list format\n",
    "\n",
    "            for file in all_files:\n",
    "                if file not in self.config.ALL_REQUIRED_FILES:\n",
    "                    logger.info(f\"Validation failed for file: {file}\")\n",
    "                else: \n",
    "                    logger.info(f\"Validation passed for file: {file}\")\n",
    "\n",
    "            validation_status = all(file in all_files for file in self.config.ALL_REQUIRED_FILES)\n",
    "            \n",
    "            with open(self.config.STATUS_FILE, \"w\") as f:\n",
    "                f.write(f\"Validation status: {validation_status}.\")\n",
    "\n",
    "        except Exception as e:\n",
    "            raise e\n",
    "\n",
    "        return validation_status\n",
    "        \n",
    "                "
   ]
  },
  {
   "cell_type": "code",
   "execution_count": 20,
   "metadata": {},
   "outputs": [
    {
     "name": "stdout",
     "output_type": "stream",
     "text": [
      "[2023-12-31 12:33:30,150: INFO: common: yaml file: config\\config.yaml loaded successfully]\n",
      "[2023-12-31 12:33:30,152: INFO: common: yaml file: params.yaml loaded successfully]\n",
      "[2023-12-31 12:33:30,153: INFO: common: created directory at: artifacts]\n",
      "[2023-12-31 12:33:30,154: INFO: common: created directory at: artifacts/data_validation]\n",
      "[2023-12-31 12:33:30,154: INFO: 578262685: Validation failed for file: dataset_dict.json]\n",
      "[2023-12-31 12:33:30,155: INFO: 578262685: Validation passed for file: test]\n",
      "[2023-12-31 12:33:30,156: INFO: 578262685: Validation passed for file: train]\n",
      "[2023-12-31 12:33:30,156: INFO: 578262685: Validation passed for file: validation]\n",
      "[2023-12-31 12:33:30,157: INFO: 578262685: Validation failed for file: xxxx]\n"
     ]
    }
   ],
   "source": [
    "\n",
    "try:\n",
    "    config = ConfigurationManager()\n",
    "    \n",
    "    data_validation_config = config.data_validation_config()\n",
    "\n",
    "    data_validation = DataValidation(config = data_validation_config)\n",
    "    # this takes the data_validation_config, and uses it to create the DataValidation class\n",
    "\n",
    "    # now we use the method defined in the dtaa_validation class\n",
    "    \n",
    "    data_validation.validate_all_files_exist()\n",
    "\n",
    "except Exception as e:\n",
    "    raise e"
   ]
  },
  {
   "cell_type": "markdown",
   "metadata": {},
   "source": [
    "Now let's convert this into modular coding..."
   ]
  },
  {
   "cell_type": "markdown",
   "metadata": {},
   "source": []
  }
 ],
 "metadata": {
  "kernelspec": {
   "display_name": "textsummarizer_venv_py311",
   "language": "python",
   "name": "python3"
  },
  "language_info": {
   "codemirror_mode": {
    "name": "ipython",
    "version": 3
   },
   "file_extension": ".py",
   "mimetype": "text/x-python",
   "name": "python",
   "nbconvert_exporter": "python",
   "pygments_lexer": "ipython3",
   "version": "3.11.7"
  }
 },
 "nbformat": 4,
 "nbformat_minor": 2
}
